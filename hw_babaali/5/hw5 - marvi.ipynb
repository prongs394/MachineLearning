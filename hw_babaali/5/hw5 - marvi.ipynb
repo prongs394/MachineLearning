{
 "cells": [
  {
   "cell_type": "code",
   "execution_count": 1,
   "metadata": {},
   "outputs": [],
   "source": [
    "import pandas as pd\n",
    "import numpy as np\n",
    "from sklearn.preprocessing import StandardScaler\n",
    "from sklearn.model_selection import train_test_split\n",
    "from sklearn.preprocessing import LabelEncoder\n",
    "from hpelm import ELM\n",
    "from sklearn.metrics import accuracy_score, confusion_matrix\n",
    "import seaborn as sns\n",
    "import matplotlib.pyplot as plt\n",
    "from sklearn.linear_model import SGDClassifier\n",
    "from sklearn.model_selection import RepeatedKFold, cross_val_score\n"
   ]
  },
  {
   "cell_type": "code",
   "execution_count": 2,
   "metadata": {},
   "outputs": [
    {
     "name": "stdout",
     "output_type": "stream",
     "text": [
      "22792\n"
     ]
    },
    {
     "data": {
      "text/html": [
       "<div>\n",
       "<style scoped>\n",
       "    .dataframe tbody tr th:only-of-type {\n",
       "        vertical-align: middle;\n",
       "    }\n",
       "\n",
       "    .dataframe tbody tr th {\n",
       "        vertical-align: top;\n",
       "    }\n",
       "\n",
       "    .dataframe thead th {\n",
       "        text-align: right;\n",
       "    }\n",
       "</style>\n",
       "<table border=\"1\" class=\"dataframe\">\n",
       "  <thead>\n",
       "    <tr style=\"text-align: right;\">\n",
       "      <th></th>\n",
       "      <th>age</th>\n",
       "      <th>workclass</th>\n",
       "      <th>fnlwgt</th>\n",
       "      <th>education</th>\n",
       "      <th>educational-num</th>\n",
       "      <th>marital-status</th>\n",
       "      <th>occupation</th>\n",
       "      <th>relationship</th>\n",
       "      <th>race</th>\n",
       "      <th>gender</th>\n",
       "      <th>hours-per-week</th>\n",
       "      <th>native-country</th>\n",
       "      <th>income</th>\n",
       "    </tr>\n",
       "  </thead>\n",
       "  <tbody>\n",
       "    <tr>\n",
       "      <th>0</th>\n",
       "      <td>37</td>\n",
       "      <td>Private</td>\n",
       "      <td>140673</td>\n",
       "      <td>Some-college</td>\n",
       "      <td>10</td>\n",
       "      <td>Married-civ-spouse</td>\n",
       "      <td>Sales</td>\n",
       "      <td>Wife</td>\n",
       "      <td>White</td>\n",
       "      <td>Female</td>\n",
       "      <td>40</td>\n",
       "      <td>United-States</td>\n",
       "      <td>&gt;50K</td>\n",
       "    </tr>\n",
       "    <tr>\n",
       "      <th>1</th>\n",
       "      <td>62</td>\n",
       "      <td>Private</td>\n",
       "      <td>35783</td>\n",
       "      <td>Some-college</td>\n",
       "      <td>10</td>\n",
       "      <td>Married-civ-spouse</td>\n",
       "      <td>Transport-moving</td>\n",
       "      <td>Husband</td>\n",
       "      <td>White</td>\n",
       "      <td>Male</td>\n",
       "      <td>60</td>\n",
       "      <td>United-States</td>\n",
       "      <td>&lt;=50K</td>\n",
       "    </tr>\n",
       "    <tr>\n",
       "      <th>2</th>\n",
       "      <td>30</td>\n",
       "      <td>Private</td>\n",
       "      <td>190511</td>\n",
       "      <td>HS-grad</td>\n",
       "      <td>9</td>\n",
       "      <td>Married-civ-spouse</td>\n",
       "      <td>Machine-op-inspct</td>\n",
       "      <td>Husband</td>\n",
       "      <td>White</td>\n",
       "      <td>Male</td>\n",
       "      <td>40</td>\n",
       "      <td>United-States</td>\n",
       "      <td>&gt;50K</td>\n",
       "    </tr>\n",
       "    <tr>\n",
       "      <th>3</th>\n",
       "      <td>66</td>\n",
       "      <td>Federal-gov</td>\n",
       "      <td>47358</td>\n",
       "      <td>10th</td>\n",
       "      <td>6</td>\n",
       "      <td>Married-civ-spouse</td>\n",
       "      <td>Craft-repair</td>\n",
       "      <td>Husband</td>\n",
       "      <td>White</td>\n",
       "      <td>Male</td>\n",
       "      <td>40</td>\n",
       "      <td>United-States</td>\n",
       "      <td>&lt;=50K</td>\n",
       "    </tr>\n",
       "    <tr>\n",
       "      <th>4</th>\n",
       "      <td>69</td>\n",
       "      <td>Self-emp-not-inc</td>\n",
       "      <td>170877</td>\n",
       "      <td>HS-grad</td>\n",
       "      <td>9</td>\n",
       "      <td>Married-civ-spouse</td>\n",
       "      <td>Sales</td>\n",
       "      <td>Husband</td>\n",
       "      <td>White</td>\n",
       "      <td>Male</td>\n",
       "      <td>48</td>\n",
       "      <td>United-States</td>\n",
       "      <td>&lt;=50K</td>\n",
       "    </tr>\n",
       "  </tbody>\n",
       "</table>\n",
       "</div>"
      ],
      "text/plain": [
       "   age          workclass  fnlwgt      education  educational-num  \\\n",
       "0   37            Private  140673   Some-college               10   \n",
       "1   62            Private   35783   Some-college               10   \n",
       "2   30            Private  190511        HS-grad                9   \n",
       "3   66        Federal-gov   47358           10th                6   \n",
       "4   69   Self-emp-not-inc  170877        HS-grad                9   \n",
       "\n",
       "        marital-status          occupation relationship    race   gender  \\\n",
       "0   Married-civ-spouse               Sales         Wife   White   Female   \n",
       "1   Married-civ-spouse    Transport-moving      Husband   White     Male   \n",
       "2   Married-civ-spouse   Machine-op-inspct      Husband   White     Male   \n",
       "3   Married-civ-spouse        Craft-repair      Husband   White     Male   \n",
       "4   Married-civ-spouse               Sales      Husband   White     Male   \n",
       "\n",
       "   hours-per-week  native-country  income  \n",
       "0              40   United-States    >50K  \n",
       "1              60   United-States   <=50K  \n",
       "2              40   United-States    >50K  \n",
       "3              40   United-States   <=50K  \n",
       "4              48   United-States   <=50K  "
      ]
     },
     "execution_count": 2,
     "metadata": {},
     "output_type": "execute_result"
    }
   ],
   "source": [
    "train = pd.read_csv('train_set.csv')\n",
    "test = pd.read_csv('test_set.csv')\n",
    "\n",
    "\n",
    "print(train.shape[0])\n",
    "train.head()"
   ]
  },
  {
   "attachments": {},
   "cell_type": "markdown",
   "metadata": {},
   "source": [
    "    Q1. TASK 1:"
   ]
  },
  {
   "cell_type": "code",
   "execution_count": 3,
   "metadata": {},
   "outputs": [
    {
     "name": "stdout",
     "output_type": "stream",
     "text": [
      "Categorical columns:\n",
      "['workclass', 'education', 'marital-status', 'occupation', 'relationship', 'race', 'gender', 'native-country', 'income']\n",
      "\n",
      "Numerical columns:\n",
      "['age', 'fnlwgt', 'educational-num', 'hours-per-week']\n"
     ]
    }
   ],
   "source": [
    "data_types = train.dtypes\n",
    "\n",
    "# Separate columns into categorical and numerical based on data types\n",
    "categorical_columns = data_types[data_types == 'object'].index.tolist()\n",
    "numerical_columns = data_types[data_types != 'object'].index.tolist()\n",
    "\n",
    "print(\"Categorical columns:\")\n",
    "print(categorical_columns)\n",
    "\n",
    "print(\"\\nNumerical columns:\")\n",
    "print(numerical_columns)"
   ]
  },
  {
   "attachments": {},
   "cell_type": "markdown",
   "metadata": {},
   "source": [
    "    Q1. TASK2:"
   ]
  },
  {
   "cell_type": "code",
   "execution_count": 4,
   "metadata": {},
   "outputs": [],
   "source": [
    "scaler = StandardScaler()\n",
    "train[numerical_columns] = scaler.fit_transform(train[numerical_columns])\n"
   ]
  },
  {
   "cell_type": "code",
   "execution_count": 5,
   "metadata": {},
   "outputs": [],
   "source": [
    "test[numerical_columns] = scaler.transform(test[numerical_columns])\n"
   ]
  },
  {
   "cell_type": "code",
   "execution_count": 316,
   "metadata": {},
   "outputs": [],
   "source": [
    "#train.head()"
   ]
  },
  {
   "attachments": {},
   "cell_type": "markdown",
   "metadata": {},
   "source": [
    "    Q2 TASK1:"
   ]
  },
  {
   "cell_type": "code",
   "execution_count": 6,
   "metadata": {},
   "outputs": [],
   "source": [
    "\n",
    "# Convert 'income' to 0 and 1\n",
    "train['income'] = train['income'].str.strip().replace({'>50K': 1, '<=50K': 0})\n",
    "\n",
    "# Remove 'income' from categorical_columns\n",
    "categorical_columns = [col for col in categorical_columns if col != 'income']\n",
    "\n",
    "# Concatenate train and test for one-hot encoding\n",
    "combined_data = pd.concat([train, test], axis=0, ignore_index=True)\n",
    "\n",
    "# Perform one-hot encoding on the remaining categorical columns\n",
    "categorical_encoded = pd.get_dummies(combined_data[categorical_columns], columns=categorical_columns)\n",
    "\n",
    "# Concatenate the one-hot encoded columns with the rest of the data\n",
    "combined_data_encoded = pd.concat([combined_data.drop(columns=categorical_columns), categorical_encoded], axis=1)\n",
    "\n",
    "combined_data_encoded = combined_data_encoded.fillna(0)\n",
    "\n",
    "# Identify columns to exclude from integer conversion\n",
    "columns_to_exclude = numerical_columns\n",
    "\n",
    "# Create a list of columns to convert to integers\n",
    "columns_to_convert = [col for col in combined_data_encoded.columns if col not in columns_to_exclude]\n",
    "\n",
    "# Convert selected columns to integers\n",
    "combined_data_encoded[columns_to_convert] = combined_data_encoded[columns_to_convert].astype(int)\n",
    "combined_data_encoded.head()\n",
    "\n",
    "# Separate train and test after one-hot encoding\n",
    "train_encoded = combined_data_encoded.iloc[:len(train)]\n",
    "test_encoded = combined_data_encoded.iloc[len(train):]\n",
    "\n",
    "\n"
   ]
  },
  {
   "cell_type": "code",
   "execution_count": 318,
   "metadata": {},
   "outputs": [],
   "source": [
    "#train_encoded.head()"
   ]
  },
  {
   "cell_type": "code",
   "execution_count": 319,
   "metadata": {},
   "outputs": [],
   "source": [
    "#test_encoded.head()"
   ]
  },
  {
   "cell_type": "code",
   "execution_count": 7,
   "metadata": {},
   "outputs": [],
   "source": [
    "X_train = train_encoded.drop('income', axis=1)\n",
    "y_train = train_encoded['income']\n",
    "#X_train.head()"
   ]
  },
  {
   "attachments": {},
   "cell_type": "markdown",
   "metadata": {},
   "source": [
    "    Q2 TASK2:"
   ]
  },
  {
   "cell_type": "code",
   "execution_count": 8,
   "metadata": {},
   "outputs": [
    {
     "name": "stdout",
     "output_type": "stream",
     "text": [
      "best parameters are:  LR:0.01, Reg:1e-05, Iter:500\n"
     ]
    },
    {
     "data": {
      "image/png": "[encoded data removed]",
      "text/plain": [
       "<Figure size 2000x1000 with 1 Axes>"
      ]
     },
     "metadata": {},
     "output_type": "display_data"
    }
   ],
   "source": [
    "learning_rates = [0.00001, 0.01, 1]\n",
    "regularization_terms = [0.00001, 0.01, 0]\n",
    "max_iterations = [500, 1000, 2000]\n",
    "\n",
    "cv = RepeatedKFold(n_splits=5, n_repeats=2, random_state=1)\n",
    "\n",
    "best_model = None\n",
    "best_score = -1\n",
    "count = -1\n",
    "best_count = -1\n",
    "\n",
    "all_scores = []\n",
    "hyperparam_combinations = []\n",
    "best_model_scores = []\n",
    "\n",
    "for learning_rate in learning_rates:\n",
    "    for regularization in regularization_terms:\n",
    "        for max_iter in max_iterations:\n",
    "            count +=1\n",
    "            model = SGDClassifier(loss='log_loss',\n",
    "                                   penalty='l2', alpha=regularization,\n",
    "                                  max_iter=max_iter, tol=1e-3, learning_rate='constant',\n",
    "                                  eta0=learning_rate, random_state=1)\n",
    "            \n",
    "            # Evaluate the model using cross-validation\n",
    "            scores = cross_val_score(model, X_train, y_train, scoring='accuracy', cv=cv, n_jobs=-1)\n",
    "            all_scores.append(scores)\n",
    "            hyperparam_combinations.append(f\"LR:{learning_rate}, Reg:{regularization}, Iter:{max_iter}\")\n",
    "            \n",
    "            # Check if this is the best score so far and update the best model\n",
    "            mean_score = np.mean(scores)\n",
    "            if mean_score > best_score:\n",
    "                best_score = mean_score\n",
    "                best_model = model\n",
    "                best_count = count\n",
    "                best_model_scores = scores\n",
    "best_model.fit(X_train, y_train)\n",
    "print(\"best parameters are: \",hyperparam_combinations[best_count])\n",
    "# Plot the boxplot for each combination\n",
    "fig, ax = plt.subplots(figsize=(20, 10))\n",
    "ax.boxplot(all_scores, labels=hyperparam_combinations, showmeans=True)\n",
    "plt.title('Logistic Regression Accuracy with Different Hyperparameters')\n",
    "plt.xlabel('Hyperparameter Combination')\n",
    "plt.ylabel('Accuracy')\n",
    "plt.xticks(rotation=90)\n",
    "plt.show()\n"
   ]
  },
  {
   "cell_type": "code",
   "execution_count": 9,
   "metadata": {},
   "outputs": [
    {
     "name": "stdout",
     "output_type": "stream",
     "text": [
      "0.8330117889759162\n"
     ]
    }
   ],
   "source": [
    "print(best_score)"
   ]
  },
  {
   "attachments": {},
   "cell_type": "markdown",
   "metadata": {},
   "source": [
    "    Q2 TASK3:\n",
    "the best model is for these parameters: \n",
    "    learning rate of 0.00001\n",
    "    regularization rate of 0.00001\n",
    "    iterations of 500\n",
    "\n",
    "i tried different things but couldn't get the model better and get a better accuracy"
   ]
  },
  {
   "cell_type": "code",
   "execution_count": 10,
   "metadata": {},
   "outputs": [
    {
     "name": "stdout",
     "output_type": "stream",
     "text": [
      "Mean Accuracy: 0.8345\n"
     ]
    }
   ],
   "source": [
    "from sklearn.model_selection import cross_val_score, RepeatedStratifiedKFold\n",
    "from sklearn.linear_model import SGDClassifier\n",
    "\n",
    "\n",
    "sgd_classifier = SGDClassifier(loss='log_loss',  # Logistic Regression\n",
    "                               learning_rate='invscaling',\n",
    "                               eta0=0.9,  # Initial learning rate\n",
    "                               alpha=0.0005,  # Regularization term\n",
    "                               max_iter=5000,  # Number of iterations\n",
    "                               #power_t=0.9,  # Exponent for inverse scaling\n",
    "                               #class_weight='balanced',  # Automatically balance classes\n",
    "                               random_state=42)\n",
    "\n",
    "\n",
    "\n",
    "cv_strategy = RepeatedStratifiedKFold(n_splits=5, n_repeats=2, random_state=42)\n",
    "\n",
    "accuracy_scores = cross_val_score(sgd_classifier, X_train, y_train, cv=cv_strategy, scoring='accuracy')\n",
    "\n",
    "mean_accuracy = accuracy_scores.mean()\n",
    "print(f'Mean Accuracy: {mean_accuracy:.4f}')\n"
   ]
  },
  {
   "cell_type": "code",
   "execution_count": 11,
   "metadata": {},
   "outputs": [
    {
     "data": {
      "text/html": [
       "<div>\n",
       "<style scoped>\n",
       "    .dataframe tbody tr th:only-of-type {\n",
       "        vertical-align: middle;\n",
       "    }\n",
       "\n",
       "    .dataframe tbody tr th {\n",
       "        vertical-align: top;\n",
       "    }\n",
       "\n",
       "    .dataframe thead th {\n",
       "        text-align: right;\n",
       "    }\n",
       "</style>\n",
       "<table border=\"1\" class=\"dataframe\">\n",
       "  <thead>\n",
       "    <tr style=\"text-align: right;\">\n",
       "      <th></th>\n",
       "      <th>age</th>\n",
       "      <th>fnlwgt</th>\n",
       "      <th>educational-num</th>\n",
       "      <th>hours-per-week</th>\n",
       "      <th>workclass_ ?</th>\n",
       "      <th>workclass_ Federal-gov</th>\n",
       "      <th>workclass_ Local-gov</th>\n",
       "      <th>workclass_ Never-worked</th>\n",
       "      <th>workclass_ Private</th>\n",
       "      <th>workclass_ Self-emp-inc</th>\n",
       "      <th>...</th>\n",
       "      <th>native-country_ Portugal</th>\n",
       "      <th>native-country_ Puerto-Rico</th>\n",
       "      <th>native-country_ Scotland</th>\n",
       "      <th>native-country_ South</th>\n",
       "      <th>native-country_ Taiwan</th>\n",
       "      <th>native-country_ Thailand</th>\n",
       "      <th>native-country_ Trinadad&amp;Tobago</th>\n",
       "      <th>native-country_ United-States</th>\n",
       "      <th>native-country_ Vietnam</th>\n",
       "      <th>native-country_ Yugoslavia</th>\n",
       "    </tr>\n",
       "  </thead>\n",
       "  <tbody>\n",
       "    <tr>\n",
       "      <th>22792</th>\n",
       "      <td>-0.339995</td>\n",
       "      <td>0.342663</td>\n",
       "      <td>1.140350</td>\n",
       "      <td>-0.034380</td>\n",
       "      <td>0</td>\n",
       "      <td>0</td>\n",
       "      <td>1</td>\n",
       "      <td>0</td>\n",
       "      <td>0</td>\n",
       "      <td>0</td>\n",
       "      <td>...</td>\n",
       "      <td>0</td>\n",
       "      <td>0</td>\n",
       "      <td>0</td>\n",
       "      <td>0</td>\n",
       "      <td>0</td>\n",
       "      <td>0</td>\n",
       "      <td>0</td>\n",
       "      <td>1</td>\n",
       "      <td>0</td>\n",
       "      <td>0</td>\n",
       "    </tr>\n",
       "    <tr>\n",
       "      <th>22793</th>\n",
       "      <td>1.416589</td>\n",
       "      <td>1.622272</td>\n",
       "      <td>-0.416222</td>\n",
       "      <td>-0.845137</td>\n",
       "      <td>1</td>\n",
       "      <td>0</td>\n",
       "      <td>0</td>\n",
       "      <td>0</td>\n",
       "      <td>0</td>\n",
       "      <td>0</td>\n",
       "      <td>...</td>\n",
       "      <td>0</td>\n",
       "      <td>0</td>\n",
       "      <td>0</td>\n",
       "      <td>0</td>\n",
       "      <td>0</td>\n",
       "      <td>0</td>\n",
       "      <td>0</td>\n",
       "      <td>1</td>\n",
       "      <td>0</td>\n",
       "      <td>0</td>\n",
       "    </tr>\n",
       "    <tr>\n",
       "      <th>22794</th>\n",
       "      <td>-0.486377</td>\n",
       "      <td>-1.352531</td>\n",
       "      <td>1.140350</td>\n",
       "      <td>-0.034380</td>\n",
       "      <td>0</td>\n",
       "      <td>0</td>\n",
       "      <td>0</td>\n",
       "      <td>0</td>\n",
       "      <td>1</td>\n",
       "      <td>0</td>\n",
       "      <td>...</td>\n",
       "      <td>0</td>\n",
       "      <td>0</td>\n",
       "      <td>0</td>\n",
       "      <td>0</td>\n",
       "      <td>0</td>\n",
       "      <td>0</td>\n",
       "      <td>0</td>\n",
       "      <td>1</td>\n",
       "      <td>0</td>\n",
       "      <td>0</td>\n",
       "    </tr>\n",
       "    <tr>\n",
       "      <th>22795</th>\n",
       "      <td>-1.364669</td>\n",
       "      <td>-0.074319</td>\n",
       "      <td>-0.027079</td>\n",
       "      <td>-0.034380</td>\n",
       "      <td>1</td>\n",
       "      <td>0</td>\n",
       "      <td>0</td>\n",
       "      <td>0</td>\n",
       "      <td>0</td>\n",
       "      <td>0</td>\n",
       "      <td>...</td>\n",
       "      <td>0</td>\n",
       "      <td>0</td>\n",
       "      <td>0</td>\n",
       "      <td>0</td>\n",
       "      <td>0</td>\n",
       "      <td>0</td>\n",
       "      <td>0</td>\n",
       "      <td>1</td>\n",
       "      <td>0</td>\n",
       "      <td>0</td>\n",
       "    </tr>\n",
       "    <tr>\n",
       "      <th>22796</th>\n",
       "      <td>-0.779141</td>\n",
       "      <td>-0.886941</td>\n",
       "      <td>1.140350</td>\n",
       "      <td>0.776377</td>\n",
       "      <td>0</td>\n",
       "      <td>0</td>\n",
       "      <td>0</td>\n",
       "      <td>0</td>\n",
       "      <td>1</td>\n",
       "      <td>0</td>\n",
       "      <td>...</td>\n",
       "      <td>0</td>\n",
       "      <td>0</td>\n",
       "      <td>0</td>\n",
       "      <td>0</td>\n",
       "      <td>0</td>\n",
       "      <td>0</td>\n",
       "      <td>0</td>\n",
       "      <td>1</td>\n",
       "      <td>0</td>\n",
       "      <td>0</td>\n",
       "    </tr>\n",
       "  </tbody>\n",
       "</table>\n",
       "<p>5 rows × 106 columns</p>\n",
       "</div>"
      ],
      "text/plain": [
       "            age    fnlwgt  educational-num  hours-per-week  workclass_ ?  \\\n",
       "22792 -0.339995  0.342663         1.140350       -0.034380             0   \n",
       "22793  1.416589  1.622272        -0.416222       -0.845137             1   \n",
       "22794 -0.486377 -1.352531         1.140350       -0.034380             0   \n",
       "22795 -1.364669 -0.074319        -0.027079       -0.034380             1   \n",
       "22796 -0.779141 -0.886941         1.140350        0.776377             0   \n",
       "\n",
       "       workclass_ Federal-gov  workclass_ Local-gov  workclass_ Never-worked  \\\n",
       "22792                       0                     1                        0   \n",
       "22793                       0                     0                        0   \n",
       "22794                       0                     0                        0   \n",
       "22795                       0                     0                        0   \n",
       "22796                       0                     0                        0   \n",
       "\n",
       "       workclass_ Private  workclass_ Self-emp-inc  ...  \\\n",
       "22792                   0                        0  ...   \n",
       "22793                   0                        0  ...   \n",
       "22794                   1                        0  ...   \n",
       "22795                   0                        0  ...   \n",
       "22796                   1                        0  ...   \n",
       "\n",
       "       native-country_ Portugal  native-country_ Puerto-Rico  \\\n",
       "22792                         0                            0   \n",
       "22793                         0                            0   \n",
       "22794                         0                            0   \n",
       "22795                         0                            0   \n",
       "22796                         0                            0   \n",
       "\n",
       "       native-country_ Scotland  native-country_ South  \\\n",
       "22792                         0                      0   \n",
       "22793                         0                      0   \n",
       "22794                         0                      0   \n",
       "22795                         0                      0   \n",
       "22796                         0                      0   \n",
       "\n",
       "       native-country_ Taiwan  native-country_ Thailand  \\\n",
       "22792                       0                         0   \n",
       "22793                       0                         0   \n",
       "22794                       0                         0   \n",
       "22795                       0                         0   \n",
       "22796                       0                         0   \n",
       "\n",
       "       native-country_ Trinadad&Tobago  native-country_ United-States  \\\n",
       "22792                                0                              1   \n",
       "22793                                0                              1   \n",
       "22794                                0                              1   \n",
       "22795                                0                              1   \n",
       "22796                                0                              1   \n",
       "\n",
       "       native-country_ Vietnam  native-country_ Yugoslavia  \n",
       "22792                        0                           0  \n",
       "22793                        0                           0  \n",
       "22794                        0                           0  \n",
       "22795                        0                           0  \n",
       "22796                        0                           0  \n",
       "\n",
       "[5 rows x 106 columns]"
      ]
     },
     "execution_count": 11,
     "metadata": {},
     "output_type": "execute_result"
    }
   ],
   "source": [
    "test_encoded = test_encoded.drop(columns=['income'])\n",
    "test_encoded.head()"
   ]
  },
  {
   "attachments": {},
   "cell_type": "markdown",
   "metadata": {},
   "source": [
    "    Q2 TASK4:"
   ]
  },
  {
   "cell_type": "code",
   "execution_count": 12,
   "metadata": {},
   "outputs": [
    {
     "name": "stdout",
     "output_type": "stream",
     "text": [
      "[1 0 0 ... 0 1 0]\n"
     ]
    }
   ],
   "source": [
    "y_pred = best_model.predict(test_encoded)\n",
    "print(y_pred)\n",
    "\n"
   ]
  },
  {
   "cell_type": "code",
   "execution_count": 13,
   "metadata": {},
   "outputs": [],
   "source": [
    "from numpy import savetxt\n",
    "y_pred_labels = np.where(y_pred == 1, '>50K', '<=50K')\n",
    "\n",
    "np.savetxt('prediction_lr.csv', y_pred_labels, delimiter=',', fmt='%s')\n"
   ]
  },
  {
   "attachments": {},
   "cell_type": "markdown",
   "metadata": {},
   "source": [
    "        Q3 TASK1:"
   ]
  },
  {
   "cell_type": "code",
   "execution_count": 15,
   "metadata": {},
   "outputs": [],
   "source": [
    "import numpy as np\n",
    "from sklearn.mixture import GaussianMixture\n",
    "from sklearn.preprocessing import LabelEncoder\n",
    "from sklearn.preprocessing import StandardScaler\n",
    "from sklearn.mixture import GaussianMixture\n",
    "from sklearn.model_selection import train_test_split\n",
    "from sklearn.metrics import accuracy_score\n",
    "\n",
    "X_train = train.drop('income', axis=1)\n",
    "y_train = train['income']\n",
    "# Separate data into numerical and categorical\n",
    "X_numerical = X_train[numerical_columns].values\n",
    "categorical_columns = [col for col in categorical_columns if col != 'income']\n",
    "X_categorical = X_train[categorical_columns].values\n",
    "\n",
    "\n",
    "\n",
    "\n"
   ]
  },
  {
   "attachments": {},
   "cell_type": "markdown",
   "metadata": {},
   "source": [
    "best number of components is 4"
   ]
  },
  {
   "cell_type": "code",
   "execution_count": 16,
   "metadata": {},
   "outputs": [],
   "source": [
    "X_train = train.drop('income', axis=1)\n",
    "y_train = train['income']"
   ]
  },
  {
   "cell_type": "code",
   "execution_count": 17,
   "metadata": {},
   "outputs": [],
   "source": [
    "X_test = test_encoded\n",
    "\n",
    "numerics = ['age', 'fnlwgt', 'educational-num', 'hours-per-week']\n",
    "# Get the names of categorical attributes\n",
    "categoricals = [col for col in X_train.columns if col not in numerics]\n",
    "#print(\"Categorical Attributes:\")\n",
    "#print(categoricals)"
   ]
  },
  {
   "cell_type": "code",
   "execution_count": 18,
   "metadata": {},
   "outputs": [],
   "source": [
    "X_train = train_encoded.drop('income', axis=1)\n",
    "\n",
    "X_test = test_encoded"
   ]
  },
  {
   "cell_type": "code",
   "execution_count": 19,
   "metadata": {},
   "outputs": [],
   "source": [
    "aa = [col for col in X_train.columns if col not in numerics]\n",
    "bb = [col for col in X_test.columns if col not in numerics]\n"
   ]
  },
  {
   "cell_type": "code",
   "execution_count": 20,
   "metadata": {},
   "outputs": [
    {
     "name": "stdout",
     "output_type": "stream",
     "text": [
      "Shapes of Numerical DataFrames:\n",
      "X_train_numerical: (22792, 4)\n",
      "X_test_numerical: (9769, 4)\n",
      "\n",
      "Shapes of Categorical DataFrames:\n",
      "X_train_categorical: (22792, 102)\n",
      "X_test_categorical: (9769, 102)\n"
     ]
    }
   ],
   "source": [
    "from sklearn.naive_bayes import GaussianNB, MultinomialNB\n",
    "\n",
    "\n",
    "# Filter numerical columns\n",
    "X_train_numerical = X_train[numerics]\n",
    "X_test_numerical = X_test[numerics]\n",
    "\n",
    "# Filter categorical columns\n",
    "X_train_categorical = X_train[aa]\n",
    "X_test_categorical = X_test[bb]\n",
    "\n",
    "print(\"Shapes of Numerical DataFrames:\")\n",
    "print(\"X_train_numerical:\", X_train_numerical.shape)\n",
    "print(\"X_test_numerical:\", X_test_numerical.shape)\n",
    "\n",
    "print(\"\\nShapes of Categorical DataFrames:\")\n",
    "print(\"X_train_categorical:\", X_train_categorical.shape)\n",
    "print(\"X_test_categorical:\", X_test_categorical.shape)\n",
    "\n"
   ]
  },
  {
   "cell_type": "code",
   "execution_count": 21,
   "metadata": {},
   "outputs": [],
   "source": [
    "from sklearn.preprocessing import LabelEncoder\n",
    "\n",
    "\n",
    "rkf = RepeatedKFold(n_splits=5, n_repeats=2, random_state=42)\n",
    "\n",
    "gnb = GaussianNB()\n",
    "gnb.fit(X_train_numerical, y_train)\n",
    "gaussian_probas = gnb.predict_proba(X_train_numerical)\n",
    "\n",
    "mnb = MultinomialNB()\n",
    "mnb.fit(X_train_categorical, y_train)\n",
    "multinomial_probas = mnb.predict_proba(X_train_categorical)\n",
    "\n",
    "new_features = np.hstack((multinomial_probas, gaussian_probas))\n",
    "\n",
    "new_gnb = GaussianNB()\n",
    "\n",
    "scores = cross_val_score(new_gnb, new_features, y_train, cv=rkf, scoring='accuracy')"
   ]
  },
  {
   "cell_type": "code",
   "execution_count": 22,
   "metadata": {},
   "outputs": [
    {
     "name": "stdout",
     "output_type": "stream",
     "text": [
      "[0.81004606 0.81925861 0.80715226 0.82294866 0.82426503 0.82496161\n",
      " 0.82496161 0.80912681 0.81197894 0.81241773]\n"
     ]
    }
   ],
   "source": [
    "print(scores)"
   ]
  },
  {
   "cell_type": "code",
   "execution_count": 23,
   "metadata": {},
   "outputs": [
    {
     "data": {
      "text/plain": [
       "array([0.84053521, 0.825839  , 0.83282141, 0.83084686, 0.83545415,\n",
       "       0.82452292, 0.83176135, 0.84642387, 0.83589294, 0.82602018])"
      ]
     },
     "execution_count": 23,
     "metadata": {},
     "output_type": "execute_result"
    },
    {
     "data": {
      "image/png": "[encoded data removed]",
      "text/plain": [
       "<Figure size 1000x500 with 3 Axes>"
      ]
     },
     "metadata": {},
     "output_type": "display_data"
    }
   ],
   "source": [
    "flattened_all_scores = np.hstack(all_scores)\n",
    "\n",
    "fig, axes = plt.subplots(1, 3, figsize=(10,5))\n",
    "\n",
    "axes[0].boxplot(flattened_all_scores)\n",
    "axes[0].set_title('SGD (270 numbers)')\n",
    "axes[0].set_ylabel('Scores')\n",
    "\n",
    "axes[1].boxplot(scores)\n",
    "axes[1].set_title('Naive (10 numbers)')\n",
    "\n",
    "axes[2].boxplot(best_model_scores)\n",
    "axes[2].set_title('best SGD model (10 numbers)')\n",
    "\n",
    "best_model_scores"
   ]
  },
  {
   "attachments": {},
   "cell_type": "markdown",
   "metadata": {},
   "source": [
    "    Q3 TASK2:\n",
    "logistic regression has done better than naive base"
   ]
  },
  {
   "attachments": {},
   "cell_type": "markdown",
   "metadata": {},
   "source": [
    "    Q3 TASK3:"
   ]
  },
  {
   "cell_type": "code",
   "execution_count": 24,
   "metadata": {},
   "outputs": [],
   "source": [
    "X_test_gaussian_probas = gnb.predict_proba(X_test_numerical)\n",
    "X_test_multinomial_probas = mnb.predict_proba(X_test_categorical)\n",
    "X_test_new_features = np.hstack((X_test_multinomial_probas, X_test_gaussian_probas))\n",
    "\n",
    "\n"
   ]
  },
  {
   "cell_type": "code",
   "execution_count": 25,
   "metadata": {},
   "outputs": [],
   "source": [
    "new_gnb.fit(new_features, y_train)  \n",
    "y_pred_naive = new_gnb.predict(X_test_new_features) \n"
   ]
  },
  {
   "cell_type": "code",
   "execution_count": 26,
   "metadata": {},
   "outputs": [],
   "source": [
    "y_pred_naive = new_gnb.predict(X_test_new_features)\n",
    "\n",
    "# Convert predictions to '>50K' or '<=50K'\n",
    "y_pred_labels = np.where(y_pred_naive == 1, '>50K', '<=50K')"
   ]
  },
  {
   "cell_type": "code",
   "execution_count": 27,
   "metadata": {},
   "outputs": [
    {
     "name": "stdout",
     "output_type": "stream",
     "text": [
      "['>50K' '<=50K' '<=50K' ... '<=50K' '>50K' '<=50K']\n"
     ]
    }
   ],
   "source": [
    "print(y_pred_labels)"
   ]
  },
  {
   "cell_type": "code",
   "execution_count": 28,
   "metadata": {},
   "outputs": [],
   "source": [
    "\n",
    "np.savetxt('prediction_b.csv', y_pred_labels, delimiter=',', fmt='%s')\n"
   ]
  },
  {
   "attachments": {},
   "cell_type": "markdown",
   "metadata": {},
   "source": [
    "    Q4:\n",
    "یکی از ضعف‌های این مدل این است که فرض میکند ویژگی‌ها از هم مستقل هستند اما در داده‌های دنیای واقعی این‌طور نیست یعنی با هم همبستگی دارند\n",
    "\n",
    "راه حلی برای این مشکل این است که از مدل های پیچیده‌تر که وابستگی ویژگی‌ها را در نظر می‌گیرند استفاده کنیم. مثل رگرسیون لاجیستیک یا رندوم فارست که این فرض را ندارند که ویژگی‌ها از هم مستقل‌اند. همچنین میتواند \n",
    "feature engineering\n",
    "انجام داد تا مقدار وابستگی را کم کرد و سپس از مدل\n",
    "naive \n",
    "استفاده کرد "
   ]
  }
 ],
 "metadata": {
  "kernelspec": {
   "display_name": "Python 3",
   "language": "python",
   "name": "python3"
  },
  "language_info": {
   "codemirror_mode": {
    "name": "ipython",
    "version": 3
   },
   "file_extension": ".py",
   "mimetype": "text/x-python",
   "name": "python",
   "nbconvert_exporter": "python",
   "pygments_lexer": "ipython3",
   "version": "3.11.3"
  },
  "orig_nbformat": 4
 },
 "nbformat": 4,
 "nbformat_minor": 2
}
